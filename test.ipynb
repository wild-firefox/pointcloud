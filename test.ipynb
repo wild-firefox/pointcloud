{
 "cells": [
  {
   "cell_type": "code",
   "execution_count": null,
   "metadata": {},
   "outputs": [],
   "source": [
    "import open3d as o3d\n",
    "\n",
    "print(\"->正在加载点云... \")\n",
    "pcd = o3d.io.read_point_cloud(\"bunny.pcd\")\n",
    "print(pcd)\n",
    "\n",
    "# 法线估计\n",
    "radius = 0.01   # 搜索半径\n",
    "max_nn = 30     # 邻域内用于估算法线的最大点数\n",
    "pcd.estimate_normals(search_param=o3d.geometry.KDTreeSearchParamHybrid(radius, max_nn))     # 执行法线估计\n",
    "\n",
    "# 可视化\n",
    "o3d.visualization.draw_geometries([pcd], \n",
    "                                  window_name = \"可视化参数设置\",\n",
    "                                  width = 600,\n",
    "                                  height = 450,\n",
    "                                  left = 30,\n",
    "                                  top = 30,\n",
    "                                  point_show_normal = True)\n"
   ]
  },
  {
   "cell_type": "code",
   "execution_count": null,
   "metadata": {},
   "outputs": [],
   "source": [
    "import open3d as o3d\n",
    "import numpy as np\n",
    "\n",
    "\n",
    "print(\"->正在加载点云... \")\n",
    "pcd = o3d.io.read_point_cloud(\"bunny.pcd\")\n",
    "print(pcd)\n",
    "\n",
    "# 将点云设置为灰色\n",
    "pcd.paint_uniform_color([0.5, 0.5, 0.5])\n",
    "\n",
    "# 建立KDTree\n",
    "pcd_tree = o3d.geometry.KDTreeFlann(pcd)\n",
    "\n",
    "# 将第1500个点设置为紫色\n",
    "pcd.colors[1500] = [0.5, 0, 0.5]\n",
    "\n",
    "# 使用K近邻，将第1500个点最近的5000个点设置为蓝色\n",
    "print(\"使用K近邻，将第1500个点最近的5000个点设置为蓝色\")\n",
    "k = 5000    # 设置K的大小\n",
    "[num_k, idx_k, _] = pcd_tree.search_knn_vector_3d(pcd.points[1500], k)    # 返回邻域点的个数和索引\n",
    "np.asarray(pcd.colors)[idx_k[1:], :] = [0, 0, 1]  # 跳过最近邻点（查询点本身）进行赋色\n",
    "print(\"k邻域内的点数为：\", num_k)\n",
    "\n",
    "# 使用半径R近邻，将第1500个点半径（0.02）范围内的点设置为红色\n",
    "print(\"使用半径R近邻，将第1500个点半径（0.02）范围内的点设置为红色\")\n",
    "radius = 0.02   # 设置半径大小\n",
    "[num_radius, idx_radius, _] = pcd_tree.search_radius_vector_3d(pcd.points[1500], radius)   # 返回邻域点的个数和索引\n",
    "np.asarray(pcd.colors)[idx_radius[1:], :] = [1, 0, 0]  # 跳过最近邻点（查询点本身）进行赋色\n",
    "print(\"半径r邻域内的点数为：\", num_radius)\n",
    "\n",
    "# 使用混合邻域，将半径R邻域内不超过max_num个点设置为绿色\n",
    "print(\"使用混合邻域，将第1500个点半径R邻域内不超过max_num个点设置为绿色\")\n",
    "max_nn = 200   # 半径R邻域内最大点数\n",
    "[num_hybrid, idx_hybrid, _] = pcd_tree.search_hybrid_vector_3d(pcd.points[1500], radius, max_nn)\n",
    "np.asarray(pcd.colors)[idx_hybrid[1:], :] = [0, 1, 0]  # 跳过最近邻点（查询点本身）进行赋色\n",
    "print(\"混合邻域内的点数为：\", num_hybrid)\n",
    "\n",
    "print(\"->正在可视化点云...\")\n",
    "o3d.visualization.draw_geometries([pcd])\n"
   ]
  },
  {
   "cell_type": "code",
   "execution_count": null,
   "metadata": {},
   "outputs": [],
   "source": [
    "li=[1,2,3,4,5,6,7,8,9,10]\n",
    "li[1:]"
   ]
  },
  {
   "cell_type": "code",
   "execution_count": null,
   "metadata": {},
   "outputs": [],
   "source": [
    "import open3d as o3d\n",
    "import numpy as np\n",
    "\n",
    "print(\"Load a ply point cloud, print it, and render it\")\n",
    "sample_ply_data = o3d.data.PLYPointCloud()\n",
    "pcd = o3d.io.read_point_cloud(sample_ply_data.path)\n",
    "o3d.visualization.draw_geometries([pcd],\n",
    "                                  zoom=0.3412,\n",
    "                                  front=[0.4257, -0.2125, -0.8795],\n",
    "                                  lookat=[2.6172, 2.0475, 1.532],\n",
    "                                  up=[-0.0694, -0.9768, 0.2024])"
   ]
  },
  {
   "cell_type": "code",
   "execution_count": null,
   "metadata": {},
   "outputs": [],
   "source": [
    "import open3d as o3d\n",
    "import numpy as np\n",
    "\n",
    "##############li =[1,2,3,4,5,6,7,8,9,10]\n",
    "print(\"->正在加载点云... \")\n",
    "pcd = o3d.io.read_point_cloud(\"bunny.pcd\")\n",
    "print(pcd)\n",
    "\n",
    "# 将点云设置为灰色\n",
    "pcd.paint_uniform_color([0.5, 0.5, 0.5])\n",
    "\n",
    "# 建立KDTree\n",
    "pcd_tree = o3d.geometry.KDTreeFlann(pcd)\n",
    "\n",
    "# 将第1500个点设置为紫色\n",
    "pcd.colors[1500] = [0.5, 0, 0.5]\n",
    "#############print(np.asarray(pcd.colors)[[li[1:]]])          np.asarray(pcd.colors)[idx_k[1:],:] 中,:可去\n",
    "# 使用K近邻，将第1500个点最近的5000个点设置为蓝色\n",
    "print(\"使用K近邻，将第1500个点最近的5000个点设置为蓝色\")  \n",
    "k = 5000    # 设置K的大小\n",
    "[num_k, idx_k, _] = pcd_tree.search_knn_vector_3d(pcd.points[1500], k)    # 返回邻域点的个数和索引\n",
    "np.asarray(pcd.colors)[idx_k[1:]] = [0, 0, 1]  # 跳过最近邻点（查询点本身）进行赋色\n",
    "print(\"k邻域内的点数为：\", num_k)\n",
    "\n",
    "# 使用半径R近邻，将第1500个点半径（0.02）范围内的点设置为红色\n",
    "print(\"使用半径R近邻，将第1500个点半径（0.02）范围内的点设置为红色\")\n",
    "radius = 0.02   # 设置半径大小\n",
    "[num_radius, idx_radius, _] = pcd_tree.search_radius_vector_3d(pcd.points[1500], radius)   # 返回邻域点的个数和索引\n",
    "np.asarray(pcd.colors)[idx_radius[1:]] = [1, 0, 0]  # 跳过最近邻点（查询点本身）进行赋色\n",
    "print(\"半径r邻域内的点数为：\", num_radius)\n",
    "\n",
    "# 使用混合邻域，将半径R邻域内不超过max_num个点设置为绿色\n",
    "print(\"使用混合邻域，将第1500个点半径R邻域内不超过max_num个点设置为绿色\")\n",
    "max_nn = 200   # 半径R邻域内最大点数\n",
    "[num_hybrid, idx_hybrid, _] = pcd_tree.search_hybrid_vector_3d(pcd.points[1500], radius, max_nn)\n",
    "np.asarray(pcd.colors)[idx_hybrid[1:]] = [0, 1, 0]  # 跳过最近邻点（查询点本身）进行赋色\n",
    "print(\"混合邻域内的点数为：\", num_hybrid)\n",
    "\n",
    "print(\"->正在可视化点云...\")\n",
    "o3d.visualization.draw_geometries([pcd])"
   ]
  },
  {
   "cell_type": "code",
   "execution_count": null,
   "metadata": {},
   "outputs": [],
   "source": [
    "import open3d as o3d\n",
    "import numpy as np\n",
    "\n",
    "# --------------------------- 加载点云 ---------------------------\n",
    "print(\"->正在加载点云... \")\n",
    "pcd = o3d.io.read_point_cloud(\"bunny.pcd\")\n",
    "print(\"原始点云：\", pcd)\n",
    "# ==============================================================\n",
    "\n",
    "# ------------------------- 构建Octree --------------------------\n",
    "print('octree 分割')\n",
    "octree = o3d.geometry.Octree(max_depth=4)\n",
    "octree.convert_from_point_cloud(pcd, size_expand=0.01)\n",
    "print(\"->正在可视化Octree...\")\n",
    "o3d.visualization.draw_geometries([octree])\n",
    "# ==============================================================\n"
   ]
  },
  {
   "cell_type": "code",
   "execution_count": null,
   "metadata": {},
   "outputs": [],
   "source": [
    "import open3d as o3d\n",
    "import numpy as np\n",
    "\n",
    "# --------------------------- 加载点云 ---------------------------\n",
    "print(\"->正在加载点云... \")\n",
    "pcd = o3d.io.read_point_cloud(\"bunny.pcd\")\n",
    "print(\"原始点云：\", pcd)\n",
    "# ==============================================================\n",
    "\n",
    "# ------------------------- 构建Octree --------------------------\n",
    "print('体素化')\n",
    "voxel_grid = o3d.geometry.VoxelGrid.create_from_point_cloud(pcd, voxel_size=0.01)\n",
    "print(\"体素：\", voxel_grid)\n",
    "print(\"正在可视化体素...\")\n",
    "o3d.visualization.draw_geometries([voxel_grid])\n",
    "\n",
    "print('Octree 分割')\n",
    "octree = o3d.geometry.Octree(max_depth=4)  #八叉树的最大深度为4\n",
    "octree.create_from_voxel_grid(voxel_grid)\n",
    "print(\"Octree：\", octree)\n",
    "print(\"正在可视化Octree...\")\n",
    "o3d.visualization.draw_geometries([octree])\n",
    "# ==============================================================\n"
   ]
  },
  {
   "cell_type": "code",
   "execution_count": null,
   "metadata": {},
   "outputs": [],
   "source": [
    "import open3d as o3d\n",
    "import numpy as np\n",
    "\n",
    "print(\"->正在加载点云... \")\n",
    "pcd = o3d.io.read_point_cloud(\"bunny.pcd\")\n",
    "print(pcd)\n",
    "\n",
    "print(\"->正在可视化原始点云\")\n",
    "o3d.visualization.draw_geometries([pcd])\n",
    "\n",
    "print(\"->正在体素下采样...\")\n",
    "voxel_size = 0.01 #越小密度越大\n",
    "downpcd = pcd.voxel_down_sample(voxel_size)\n",
    "print(downpcd)\n",
    "\n",
    "print(\"->正在可视化下采样点云\")\n",
    "o3d.visualization.draw_geometries([downpcd])\n"
   ]
  },
  {
   "cell_type": "code",
   "execution_count": null,
   "metadata": {},
   "outputs": [],
   "source": [
    "import open3d as o3d\n",
    "import numpy as np\n",
    "\n",
    "print(\"->正在加载点云... \")\n",
    "pcd = o3d.io.read_point_cloud(\"bunny.pcd\")\n",
    "print(\"原始点云：\", pcd)\n",
    "\n",
    "# ------------------------- 统计滤波 --------------------------\n",
    "print(\"->正在进行统计滤波...\")\n",
    "num_neighbors = 20 # K邻域点的个数\n",
    "std_ratio = 2.0 # 标准差乘数\n",
    "# 执行统计滤波，返回滤波后的点云sor_pcd和对应的索引ind\n",
    "sor_pcd, ind = pcd.remove_statistical_outlier(num_neighbors, std_ratio)\n",
    "sor_pcd.paint_uniform_color([0, 0, 1])\n",
    "print(\"统计滤波后的点云：\", sor_pcd)\n",
    "# 提取噪声点云\n",
    "sor_noise_pcd = pcd.select_by_index(ind,invert = True) #除了索引ind以外的点云\n",
    "print(\"噪声点云：\", sor_noise_pcd)\n",
    "sor_noise_pcd.paint_uniform_color([1, 0, 0])\n",
    "# ===========================================================\n",
    "\n",
    "# 可视化统计滤波后的点云和噪声点云\n",
    "o3d.visualization.draw_geometries([sor_pcd, sor_noise_pcd])\n"
   ]
  },
  {
   "cell_type": "code",
   "execution_count": null,
   "metadata": {},
   "outputs": [],
   "source": [
    "import open3d as o3d\n",
    "import numpy as np\n",
    "\n",
    "print(\"->正在加载点云... \")\n",
    "pcd = o3d.io.read_point_cloud(\"bunny.pcd\")\n",
    "print(pcd)\n",
    "\n",
    "print(\"->正在估计法线并可视化...\")\n",
    "radius = 0.01   # 搜索半径\n",
    "max_nn = 30     # 邻域内用于估算法线的最大点数\n",
    "pcd.estimate_normals(search_param=o3d.geometry.KDTreeSearchParamHybrid(radius, max_nn))     # 执行法线估计\n",
    "o3d.visualization.draw_geometries([pcd], point_show_normal=True)#point_show_normal=True显示法线\n",
    "\n",
    "print(\"->正在打印前10个点的法向量...\")\n",
    "print(np.asarray(pcd.normals)[:10, :])\n"
   ]
  },
  {
   "cell_type": "code",
   "execution_count": null,
   "metadata": {},
   "outputs": [],
   "source": [
    "import open3d as o3d\n",
    "import numpy as np\n",
    "import matplotlib.pyplot as plt\n",
    "\n",
    "print(\"->正在加载点云... \")\n",
    "pcd = o3d.io.read_point_cloud(\"bunny.pcd\")\n",
    "print(pcd)\n",
    "\n",
    "print(\"->正在DBSCAN聚类...\")\n",
    "eps = 0.5        # 同一聚类中最大点间距\n",
    "min_points = 50     # 有效聚类的最小点数\n",
    "with o3d.utility.VerbosityContextManager(o3d.utility.VerbosityLevel.Debug) as cm:\n",
    "    labels = np.array(pcd.cluster_dbscan(eps, min_points, print_progress=True))\n",
    "max_label = labels.max()    # 获取聚类标签的最大值 [-1,0,1,2,...,max_label]，label = -1 为噪声，因此总聚类个数为 max_label + 1\n",
    "print(f\"point cloud has {max_label + 1} clusters\")\n",
    "colors = plt.get_cmap(\"tab20\")(labels / (max_label if max_label > 0 else 1))\n",
    "colors[labels < 0] = 0  # labels = -1 的簇为噪声，以黑色显示\n",
    "pcd.colors = o3d.utility.Vector3dVector(colors[:, :3])\n",
    "o3d.visualization.draw_geometries([pcd])\n"
   ]
  },
  {
   "cell_type": "code",
   "execution_count": null,
   "metadata": {},
   "outputs": [],
   "source": [
    "# 布尔索引\n",
    "import numpy as np\n",
    "\n",
    "# 创建一个NumPy数组\n",
    "arr = np.array([1, 2, 3, 4, 5])\n",
    "\n",
    "# 创建一个布尔数组\n",
    "mask = arr > 3  # array([False, False, False, True, True])\n",
    "\n",
    "# 使用布尔索引选择出arr中大于3的元素\n",
    "selected = arr[mask]  # array([4, 5])\n",
    "\n",
    "# 使用布尔索引将arr中大于3的元素设置为0\n",
    "arr[mask] = 0  # array([1, 2, 3, 0, 0])"
   ]
  },
  {
   "cell_type": "code",
   "execution_count": 7,
   "metadata": {},
   "outputs": [
    {
     "name": "stdout",
     "output_type": "stream",
     "text": [
      "[[0.1 0.2 0.3 0.4]\n",
      " [0.5 0.6 0.7 0.8]\n",
      " [0.9 1.  1.1 1.2]]\n"
     ]
    }
   ],
   "source": [
    "import numpy as np\n",
    "\n",
    "colors = [[0.1, 0.2, 0.3, 0.4],\n",
    " [0.5, 0.6, 0.7, 0.8],\n",
    " [0.9, 1.0, 1.1, 1.2]]\n",
    "\n",
    "colors = np.array(colors)  # 将列表转换为NumPy数组 #列表不支持切片操作\n",
    "print(colors[:,:3]) #第一个：表示所有行，第二个：表示列，:3表示前三列"
   ]
  },
  {
   "cell_type": "code",
   "execution_count": null,
   "metadata": {},
   "outputs": [],
   "source": [
    "import open3d as o3d\n",
    "\n",
    "print(\"->正在加载点云... \")\n",
    "pcd = o3d.io.read_point_cloud(\"road.pcd\")\n",
    "print(pcd)\n",
    "\n",
    "print(\"->正在RANSAC平面分割...\")\n",
    "distance_threshold = 0.2    # 内点到平面模型的最大距离\n",
    "ransac_n = 3                # 用于拟合平面的采样点数  #三点确定一面 #随机采样三个点\n",
    "num_iterations = 1000       # 最大迭代次数 #越大越好\n",
    "\n",
    "# 返回模型系数plane_model和内点索引inliers，并赋值\n",
    "plane_model, inliers = pcd.segment_plane(distance_threshold, ransac_n, num_iterations)\n",
    "\n",
    "# 输出平面方程\n",
    "[a, b, c, d] = plane_model\n",
    "print(f\"Plane equation: {a:.2f}x + {b:.2f}y + {c:.2f}z + {d:.2f} = 0\")\n",
    "#平面方程解释\n",
    "#ax+by+cz+d=0 其中a,b,c为法向量，d为平面到原点的距离\n",
    "\n",
    "\n",
    "# 平面内点点云\n",
    "inlier_cloud = pcd.select_by_index(inliers)\n",
    "inlier_cloud.paint_uniform_color([0, 0, 1.0])\n",
    "print(inlier_cloud)\n",
    "\n",
    "# 平面外点点云\n",
    "outlier_cloud = pcd.select_by_index(inliers, invert=True)# invert=True表示取反\n",
    "outlier_cloud.paint_uniform_color([1.0, 0, 0])\n",
    "print(outlier_cloud)\n",
    "\n",
    "# 可视化平面分割结果\n",
    "o3d.visualization.draw_geometries([inlier_cloud, outlier_cloud])\n"
   ]
  },
  {
   "cell_type": "code",
   "execution_count": 4,
   "metadata": {},
   "outputs": [
    {
     "name": "stdout",
     "output_type": "stream",
     "text": [
      "->正在加载点云... \n",
      "PointCloud with 35947 points.\n",
      "->正在剔除隐藏点...\n",
      "定义隐藏点去除的参数\n",
      "->可视点个数为： PointCloud with 11490 points.\n",
      "->隐藏点个数为： PointCloud with 24457 points.\n",
      "->正在可视化可视点和隐藏点点云...\n",
      "[Open3D WARNING] [ViewControl] SetViewPoint() failed because window height and width are not set.\n"
     ]
    }
   ],
   "source": [
    "import open3d as o3d\n",
    "import numpy as np\n",
    "\n",
    "print(\"->正在加载点云... \")\n",
    "pcd = o3d.io.read_point_cloud(\"bunny.pcd\")\n",
    "print(pcd)\n",
    "\n",
    "print(\"->正在剔除隐藏点...\")\n",
    "diameter = np.linalg.norm(np.asarray(pcd.get_max_bound()) - np.asarray(pcd.get_min_bound())) #点云的直径\n",
    "print(\"定义隐藏点去除的参数\")\n",
    "camera = [0, 0, diameter]       # 视点位置 #[0, diameter, 0]表示视点在点云的上方,距离点云中心diameter的距离 [0, -diameter, 0]表示视点在点云的下方 \n",
    "#[diameter, 0, 0]表示视点在点云的右方,[0, 0, diameter]表示视点在点云的前方\n",
    "radius = diameter * 100       # The radius of the sperical projection  球面投影的半径\n",
    "_, pt_map = pcd.hidden_point_removal(camera, radius)    # 获取视点位置能看到的所有点的索引 pt_map\n",
    "\n",
    "# 可视点点云\n",
    "pcd_visible = pcd.select_by_index(pt_map)\n",
    "pcd_visible.paint_uniform_color([0, 0, 1])\t# 可视点为蓝色\n",
    "print(\"->可视点个数为：\", pcd_visible)\n",
    "# 隐藏点点云\n",
    "pcd_hidden = pcd.select_by_index(pt_map, invert = True)\n",
    "pcd_hidden.paint_uniform_color([1, 0, 0])\t# 隐藏点为红色\n",
    "print(\"->隐藏点个数为：\", pcd_hidden)\n",
    "print(\"->正在可视化可视点和隐藏点点云...\")\n",
    "o3d.visualization.draw_geometries([pcd_visible, pcd_hidden])\n"
   ]
  },
  {
   "cell_type": "code",
   "execution_count": 12,
   "metadata": {},
   "outputs": [
    {
     "name": "stdout",
     "output_type": "stream",
     "text": [
      "3.7416573867739413\n",
      "5.477225575051661\n",
      "7.0\n",
      "inf\n"
     ]
    }
   ],
   "source": [
    "import numpy as np\n",
    "\n",
    "# 计算向量的范数  #欧几里得范数\n",
    "v = np.array([1, 2, 3])\n",
    "norm_v = np.linalg.norm(v)\n",
    "print(norm_v)  # 输出：3.7416573867739413\n",
    "\n",
    "# 计算矩阵的Frobenius范数（即，矩阵所有元素的平方和的平方根）\n",
    "m = np.array([[1, 2], [3, 4]])\n",
    "norm_m = np.linalg.norm(m)\n",
    "print(norm_m)  # 输出：5.477225575051661\n",
    "\n",
    "# 计算矩阵的无穷范数（即，矩阵每行元素的绝对值之和的最大值） 1+2=3 3+4=7\n",
    "norm_m_inf = np.linalg.norm(m, np.inf)\n",
    "print(norm_m_inf)  # 输出：7.0\n",
    "\n",
    "print(np.inf)"
   ]
  },
  {
   "cell_type": "code",
   "execution_count": 3,
   "metadata": {},
   "outputs": [
    {
     "name": "stdout",
     "output_type": "stream",
     "text": [
      "->正在加载点云... \n",
      "原始点云： PointCloud with 35947 points.\n",
      "alpha=0.010\n"
     ]
    }
   ],
   "source": [
    "import open3d as o3d\n",
    "import numpy as np\n",
    "\n",
    "# --------------------------- 加载点云 ---------------------------\n",
    "print(\"->正在加载点云... \")\n",
    "pcd = o3d.io.read_point_cloud(\"bunny.pcd\")\n",
    "print(\"原始点云：\", pcd)\n",
    "# ==============================================================\n",
    "\n",
    "# ------------------------- Alpha shapes -----------------------\n",
    "alpha = 0.01 #值越小三角形网格越细致\n",
    "print(f\"alpha={alpha:.3f}\")\n",
    "mesh = o3d.geometry.TriangleMesh.create_from_point_cloud_alpha_shape(pcd, alpha) #创建三角形网格\n",
    "mesh.compute_vertex_normals() #这个方法没有参数，返回的是一个更新后的三角形网格对象，其顶点法线已经被计算并存储在`mesh.vertex_normals`属性中。\n",
    "#[[0.0, 0.0, 1.0],  # 第一个顶点的法线向量 指向z轴正方向\n",
    "\n",
    "# 创建坐标轴\n",
    "coordinate_frame = o3d.geometry.TriangleMesh.create_coordinate_frame(size=0.005, origin=[0, 0, 0]) #x红 y绿 z蓝\n",
    "o3d.visualization.draw_geometries([mesh,coordinate_frame],mesh_show_back_face=True)#mesh_show_back_face=True显示背面\n",
    "# ==============================================================\n",
    "\n"
   ]
  },
  {
   "cell_type": "code",
   "execution_count": 3,
   "metadata": {},
   "outputs": [
    {
     "name": "stdout",
     "output_type": "stream",
     "text": [
      "->正在加载点云... \n",
      "原始点云： PointCloud with 35947 points.\n",
      "alpha=0.010\n",
      "[Open3D WARNING] [ViewControl] SetViewPoint() failed because window height and width are not set.\n",
      "[Open3D WARNING] [ViewControl] SetViewPoint() failed because window height and width are not set.\n"
     ]
    }
   ],
   "source": [
    "import open3d as o3d\n",
    "import numpy as np\n",
    "\n",
    "# --------------------------- 加载点云 ---------------------------\n",
    "print(\"->正在加载点云... \")\n",
    "pcd = o3d.io.read_point_cloud(\"bunny.pcd\")\n",
    "print(\"原始点云：\", pcd)\n",
    "# ==============================================================\n",
    "\n",
    "# ------------------------- Alpha shapes -----------------------\n",
    "alpha = 0.01 #值越小三角形网格越细致\n",
    "print(f\"alpha={alpha:.3f}\")\n",
    "mesh = o3d.geometry.TriangleMesh.create_from_point_cloud_alpha_shape(pcd, alpha) #创建三角形网格\n",
    "mesh.compute_vertex_normals() #这个方法没有参数，返回的是一个更新后的三角形网格对象，其顶点法线已经被计算并存储在`mesh.vertex_normals`属性中。\n",
    "#[[0.0, 0.0, 1.0],  # 第一个顶点的法线向量 指向z轴正方向\n",
    "\n",
    "# 创建一个可视化窗口\n",
    "vis = o3d.visualization.Visualizer()\n",
    "vis.create_window()\n",
    "# 设置显示背面\n",
    "vis.get_render_option().mesh_show_back_face = True\n",
    "\n",
    "# 添加网格和坐标轴\n",
    "vis.add_geometry(mesh)\n",
    "vis.add_geometry(o3d.geometry.TriangleMesh.create_coordinate_frame(size=0.005, origin=[0, 0, 0])) #添加坐标轴 x红 y绿 z蓝\n",
    "\n",
    "# 开始渲染\n",
    "vis.run()\n",
    "\n",
    "# 关闭窗口\n",
    "vis.destroy_window()"
   ]
  },
  {
   "cell_type": "code",
   "execution_count": 2,
   "metadata": {},
   "outputs": [
    {
     "name": "stdout",
     "output_type": "stream",
     "text": [
      "Jupyter environment detected. Enabling Open3D WebVisualizer.\n",
      "[Open3D INFO] WebRTC GUI backend enabled.\n",
      "[Open3D INFO] WebRTCWindowSystem: HTTP handshake server disabled.\n",
      "->Ball pivoting...\n",
      "[Open3D WARNING] Read geometry::TriangleMesh failed: unknown file extension.\n"
     ]
    },
    {
     "ename": "RuntimeError",
     "evalue": "[Open3D Error] (class std::shared_ptr<class open3d::geometry::PointCloud> __cdecl open3d::geometry::TriangleMesh::SamplePointsPoissonDisk(unsigned __int64,double,const class std::shared_ptr<class open3d::geometry::PointCloud>,bool)) D:\\a\\Open3D\\Open3D\\cpp\\open3d\\geometry\\TriangleMesh.cpp:527: Input mesh has no triangles.\n",
     "output_type": "error",
     "traceback": [
      "\u001b[1;31m---------------------------------------------------------------------------\u001b[0m",
      "\u001b[1;31mRuntimeError\u001b[0m                              Traceback (most recent call last)",
      "Cell \u001b[1;32mIn[2], line 15\u001b[0m\n\u001b[0;32m     13\u001b[0m _relative_path \u001b[38;5;241m=\u001b[39m \u001b[38;5;124m\"\u001b[39m\u001b[38;5;124mbunny.pcd\u001b[39m\u001b[38;5;124m\"\u001b[39m    \u001b[38;5;66;03m# 设置相对路径\u001b[39;00m\n\u001b[0;32m     14\u001b[0m N \u001b[38;5;241m=\u001b[39m \u001b[38;5;241m2000\u001b[39m                       \u001b[38;5;66;03m# 将点划分为N个体素\u001b[39;00m\n\u001b[1;32m---> 15\u001b[0m pcd \u001b[38;5;241m=\u001b[39m get_mesh(_relative_path)\u001b[38;5;241m.\u001b[39msample_points_poisson_disk(N)\n\u001b[0;32m     16\u001b[0m o3d\u001b[38;5;241m.\u001b[39mvisualization\u001b[38;5;241m.\u001b[39mdraw_geometries([pcd])\n\u001b[0;32m     18\u001b[0m radii \u001b[38;5;241m=\u001b[39m [\u001b[38;5;241m0.005\u001b[39m, \u001b[38;5;241m0.01\u001b[39m, \u001b[38;5;241m0.02\u001b[39m, \u001b[38;5;241m0.04\u001b[39m]\n",
      "\u001b[1;31mRuntimeError\u001b[0m: [Open3D Error] (class std::shared_ptr<class open3d::geometry::PointCloud> __cdecl open3d::geometry::TriangleMesh::SamplePointsPoissonDisk(unsigned __int64,double,const class std::shared_ptr<class open3d::geometry::PointCloud>,bool)) D:\\a\\Open3D\\Open3D\\cpp\\open3d\\geometry\\TriangleMesh.cpp:527: Input mesh has no triangles.\n"
     ]
    }
   ],
   "source": [
    "\n",
    "import open3d as o3d\n",
    "\n",
    "# 从PCD文件中读取点云\n",
    "pcd = o3d.io.read_point_cloud(\"bunny.pcd\")\n",
    "\n",
    "# 估计点云的法线\n",
    "pcd.estimate_normals()\n",
    "# 使用Ball Pivoting算法从点云创建一个网格\n",
    "radii = [0.005, 0.01, 0.02, 0.04] # 球半径列表\n",
    "mesh = o3d.geometry.TriangleMesh.create_from_point_cloud_ball_pivoting(\n",
    "    pcd, o3d.utility.DoubleVector(radii)) #o3d.utility.DoubleVector(radii)将列表转换为DoubleVector类型\n",
    "\n",
    "# 计算网格的顶点法线\n",
    "mesh.compute_vertex_normals()\n",
    "\n",
    "# 从网格中采样点\n",
    "sampled_pcd = mesh.sample_points_poisson_disk(3000)\n",
    "\n",
    "# 显示采样后的点云\n",
    "print(\"Displaying sampled pointcloud ...\")\n",
    "o3d.visualization.draw_geometries([sampled_pcd])\n",
    "\n",
    "# 显示重建的网格\n",
    "print(\"Displaying reconstructed mesh ...\")\n",
    "o3d.visualization.draw_geometries([mesh])"
   ]
  },
  {
   "cell_type": "code",
   "execution_count": 1,
   "metadata": {},
   "outputs": [
    {
     "name": "stdout",
     "output_type": "stream",
     "text": [
      "Jupyter environment detected. Enabling Open3D WebVisualizer.\n",
      "[Open3D INFO] WebRTC GUI backend enabled.\n",
      "[Open3D INFO] WebRTCWindowSystem: HTTP handshake server disabled.\n",
      "->正在加载点云... \n",
      "原始点云： PointCloud with 35947 points.\n",
      "run Poisson surface reconstruction\n",
      "[Open3D DEBUG] Input Points / Samples: 35947 / 35946\n",
      "[Open3D DEBUG] #   Got kernel density: 0.488 (s), 433.141 (MB) / 433.141 (MB) / 433 (MB)\n",
      "[Open3D DEBUG] #     Got normal field: 0.139 (s), 560.512 (MB) / 560.512 (MB) / 560 (MB)\n",
      "[Open3D DEBUG] Point weight / Estimated Area: 8.608727e-05 / 3.094579e+00\n",
      "[Open3D DEBUG] #       Finalized tree: 0.588 (s), 568.438 (MB) / 568.438 (MB) / 699 (MB)\n",
      "[Open3D DEBUG] #  Set FEM constraints: 0.158 (s), 440.742 (MB) / 568.438 (MB) / 699 (MB)\n",
      "[Open3D DEBUG] #Set point constraints: 0.107000 (s), 435.086 (MB) / 568.438 (MB) / 699 (MB)\n",
      "[Open3D DEBUG] Leaf Nodes / Active Nodes / Ghost Nodes: 4910277 / 356368 / 5255377\n",
      "[Open3D DEBUG] Memory Usage: 435.090 MB\n",
      "[Open3D DEBUG] # Linear system solved: 0.849 (s), 447.438 (MB) / 568.438 (MB) / 699 (MB)\n",
      "[Open3D DEBUG] Got average: 0.00899982 (s), 444.84 (MB) / 568.438 (MB) / 699 (MB)\n",
      "[Open3D DEBUG] Iso-Value: 5.001469e-01 = 1.797878e+04 / 3.594700e+04\n",
      "[Open3D DEBUG] #          Total Solve:       4.0 (s),     568.4 (MB)\n",
      "TriangleMesh with 66017 points and 131844 triangles.\n"
     ]
    }
   ],
   "source": [
    "import open3d as o3d\n",
    "import numpy as np\n",
    "\n",
    "# --------------------------- 加载点云 ---------------------------\n",
    "print(\"->正在加载点云... \")\n",
    "pcd = o3d.io.read_point_cloud(\"bunny.pcd\")\n",
    "print(\"原始点云：\", pcd)\n",
    "# ==============================================================\n",
    "\n",
    "# ------------------------- Ball pivoting --------------------------\n",
    "print('run Poisson surface reconstruction')\n",
    "radius = 0.001   # 搜索半径\n",
    "max_nn = 30         # 邻域内用于估算法线的最大点数\n",
    "pcd.estimate_normals(search_param=o3d.geometry.KDTreeSearchParamHybrid(radius, max_nn))     # 执行法线估计\n",
    "\n",
    "with o3d.utility.VerbosityContextManager(o3d.utility.VerbosityLevel.Debug) as cm:\n",
    "    mesh, densities = o3d.geometry.TriangleMesh.create_from_point_cloud_poisson(pcd, depth=12)\n",
    "print(mesh)\n",
    "o3d.visualization.draw_geometries([mesh])\n",
    "# ==============================================================\n"
   ]
  },
  {
   "cell_type": "code",
   "execution_count": 1,
   "metadata": {},
   "outputs": [
    {
     "name": "stdout",
     "output_type": "stream",
     "text": [
      "Jupyter environment detected. Enabling Open3D WebVisualizer.\n",
      "[Open3D INFO] WebRTC GUI backend enabled.\n",
      "[Open3D INFO] WebRTCWindowSystem: HTTP handshake server disabled.\n",
      "->Ball pivoting...\n"
     ]
    },
    {
     "ename": "RuntimeError",
     "evalue": "[Open3D Error] (class std::shared_ptr<class open3d::geometry::TriangleMesh> __cdecl open3d::geometry::BallPivoting::Run(const class std::vector<double,class std::allocator<double> > &)) D:\\a\\Open3D\\Open3D\\cpp\\open3d\\geometry\\SurfaceReconstructionBallPivoting.cpp:658: ReconstructBallPivoting requires normals\n",
     "output_type": "error",
     "traceback": [
      "\u001b[1;31m---------------------------------------------------------------------------\u001b[0m",
      "\u001b[1;31mRuntimeError\u001b[0m                              Traceback (most recent call last)",
      "Cell \u001b[1;32mIn[1], line 18\u001b[0m\n\u001b[0;32m     15\u001b[0m o3d\u001b[38;5;241m.\u001b[39mvisualization\u001b[38;5;241m.\u001b[39mdraw_geometries([pcd])\n\u001b[0;32m     17\u001b[0m radii \u001b[38;5;241m=\u001b[39m [\u001b[38;5;241m0.005\u001b[39m, \u001b[38;5;241m0.01\u001b[39m, \u001b[38;5;241m0.02\u001b[39m, \u001b[38;5;241m0.04\u001b[39m]\n\u001b[1;32m---> 18\u001b[0m rec_mesh \u001b[38;5;241m=\u001b[39m o3d\u001b[38;5;241m.\u001b[39mgeometry\u001b[38;5;241m.\u001b[39mTriangleMesh\u001b[38;5;241m.\u001b[39mcreate_from_point_cloud_ball_pivoting(pcd, o3d\u001b[38;5;241m.\u001b[39mutility\u001b[38;5;241m.\u001b[39mDoubleVector(radii))\n\u001b[0;32m     19\u001b[0m o3d\u001b[38;5;241m.\u001b[39mvisualization\u001b[38;5;241m.\u001b[39mdraw_geometries([pcd, rec_mesh])\n",
      "\u001b[1;31mRuntimeError\u001b[0m: [Open3D Error] (class std::shared_ptr<class open3d::geometry::TriangleMesh> __cdecl open3d::geometry::BallPivoting::Run(const class std::vector<double,class std::allocator<double> > &)) D:\\a\\Open3D\\Open3D\\cpp\\open3d\\geometry\\SurfaceReconstructionBallPivoting.cpp:658: ReconstructBallPivoting requires normals\n"
     ]
    }
   ],
   "source": [
    "import open3d as o3d\n",
    "import numpy as np\n",
    "\n",
    "# ---------------------- 定义点云体素化函数 ----------------------\n",
    "def get_point_cloud(_relative_path):\n",
    "    pcd = o3d.io.read_point_cloud(_relative_path)\n",
    "    return pcd\n",
    "# =============================================================\n",
    "\n",
    "# ------------------------- Ball pivoting --------------------------\n",
    "print(\"->Ball pivoting...\")\n",
    "_relative_path = \"bunny.pcd\"    # 设置相对路径\n",
    "N = 2000                       # 将点划分为N个体素\n",
    "pcd = get_point_cloud(_relative_path).voxel_down_sample(voxel_size=0.02)\n",
    "o3d.visualization.draw_geometries([pcd])\n",
    "\n",
    "radii = [0.005, 0.01, 0.02, 0.04]\n",
    "rec_mesh = o3d.geometry.TriangleMesh.create_from_point_cloud_ball_pivoting(pcd, o3d.utility.DoubleVector(radii))\n",
    "o3d.visualization.draw_geometries([pcd, rec_mesh])\n",
    "# =============================================================="
   ]
  },
  {
   "cell_type": "code",
   "execution_count": 1,
   "metadata": {},
   "outputs": [],
   "source": [
    "import open3d as o3d\n",
    "\n",
    "bunny = o3d.data.BunnyMesh()\n",
    "gt_mesh = o3d.io.read_triangle_mesh(bunny.path)\n",
    "gt_mesh.compute_vertex_normals()\n",
    "\n",
    "pcd = gt_mesh.sample_points_poisson_disk(3000)\n",
    "print(\"Displaying input pointcloud ...\")\n",
    "o3d.visualization.draw([pcd], point_size=5)\n",
    "\n",
    "radii = [0.005, 0.01, 0.02, 0.04]\n",
    "print('Running ball pivoting surface reconstruction ...')\n",
    "rec_mesh = o3d.geometry.TriangleMesh.create_from_point_cloud_ball_pivoting(\n",
    "pcd, o3d.utility.DoubleVector(radii))\n",
    "print(\"Displaying reconstructed mesh ...\")\n",
    "o3d.visualization.draw([rec_mesh])"
   ]
  },
  {
   "cell_type": "code",
   "execution_count": 1,
   "metadata": {},
   "outputs": [
    {
     "name": "stdout",
     "output_type": "stream",
     "text": [
      "0.4232824511759452\n",
      "[0.96357535 0.45140121 0.07613802 0.92491049 0.82840686]\n",
      "[[0.57502073 0.8275811  0.54342632]\n",
      " [0.00780819 0.89651698 0.81284938]]\n"
     ]
    }
   ],
   "source": [
    "import numpy as np\n",
    "\n",
    "# 生成一个随机数\n",
    "random_number = np.random.rand()\n",
    "print(random_number)\n",
    "\n",
    "# 生成一个包含5个随机数的一维数组\n",
    "random_array = np.random.rand(5)\n",
    "print(random_array)\n",
    "\n",
    "# 生成一个2x3的二维数组，每个元素都是随机数\n",
    "random_matrix = np.random.rand(2, 3)\n",
    "print(random_matrix)"
   ]
  },
  {
   "cell_type": "code",
   "execution_count": 1,
   "metadata": {},
   "outputs": [
    {
     "name": "stdout",
     "output_type": "stream",
     "text": [
      "Jupyter environment detected. Enabling Open3D WebVisualizer.\n",
      "[Open3D INFO] WebRTC GUI backend enabled.\n",
      "[Open3D INFO] WebRTCWindowSystem: HTTP handshake server disabled.\n",
      "->正在加载点云... \n",
      "PointCloud with 35947 points.\n",
      "->正在计算点云凸包...\n"
     ]
    }
   ],
   "source": [
    "import open3d as o3d\n",
    "import numpy as np\n",
    "\n",
    "print(\"->正在加载点云... \")\n",
    "pcd = o3d.io.read_point_cloud(\"bunny.pcd\")\n",
    "print(pcd)\n",
    "\n",
    "print(\"->正在计算点云凸包...\")\n",
    "hull, _ = pcd.compute_convex_hull()\n",
    "hull_ls = o3d.geometry.LineSet.create_from_triangle_mesh(hull)\n",
    "hull_ls.paint_uniform_color((1, 0, 0))\n",
    "o3d.visualization.draw_geometries([pcd, hull_ls])\n"
   ]
  },
  {
   "cell_type": "code",
   "execution_count": 2,
   "metadata": {},
   "outputs": [
    {
     "name": "stdout",
     "output_type": "stream",
     "text": [
      "->正在加载点云... \n",
      "PointCloud with 35947 points.\n",
      "->正在计算点云轴向最小包围盒...\n",
      "->正在计算点云最小包围盒...\n"
     ]
    }
   ],
   "source": [
    "import open3d as o3d\n",
    "import numpy as np\n",
    "\n",
    "print(\"->正在加载点云... \")\n",
    "pcd = o3d.io.read_point_cloud(\"bunny.pcd\")\n",
    "print(pcd)\n",
    "\n",
    "print(\"->正在计算点云轴向最小包围盒...\")\n",
    "aabb = pcd.get_axis_aligned_bounding_box()\n",
    "aabb.color = (1, 0, 0)\n",
    "print(\"->正在计算点云最小包围盒...\")\n",
    "obb = pcd.get_oriented_bounding_box()\n",
    "obb.color = (0, 1, 0)\n",
    "o3d.visualization.draw_geometries([pcd, aabb, obb])\n"
   ]
  },
  {
   "cell_type": "code",
   "execution_count": 5,
   "metadata": {},
   "outputs": [
    {
     "name": "stdout",
     "output_type": "stream",
     "text": [
      "->正在加载点云1... \n",
      "PointCloud with 35947 points.\n",
      "->正在加载点云2...\n",
      "PointCloud with 1144162 points.\n",
      "->正在点云1每一点到点云2的最近距离...\n",
      "->正在打印前10个点...\n",
      "[3.23839644 3.2454794  3.25572124 3.19962587 3.22344055 3.2261811\n",
      " 3.23844152 3.16783435 3.1664986  3.22188013]\n",
      "->正在提取距离大于3.56的点\n",
      "PointCloud with 27496 points.\n"
     ]
    }
   ],
   "source": [
    "import open3d as o3d\n",
    "import numpy as np\n",
    "\n",
    "print(\"->正在加载点云1... \")\n",
    "pcd1 = o3d.io.read_point_cloud(\"bunny.pcd\")\n",
    "print(pcd1)\n",
    "print(\"->正在加载点云2...\")\n",
    "pcd2 = o3d.io.read_point_cloud(\"road.pcd\")\n",
    "print(pcd2)\n",
    "\n",
    "print(\"->正在点云1每一点到点云2的最近距离...\")\n",
    "dists = pcd1.compute_point_cloud_distance(pcd2)\n",
    "dists = np.asarray(dists)\n",
    "print(\"->正在打印前10个点...\")\n",
    "print(dists[:10])\n",
    "\n",
    "print(\"->正在提取距离大于3.56的点\")\n",
    "ind = np.where(dists > 3.2)[0]\n",
    "pcd3 = pcd1.select_by_index(ind)\n",
    "print(pcd3)\n",
    "o3d.visualization.draw_geometries([pcd3])\n"
   ]
  },
  {
   "cell_type": "markdown",
   "metadata": {},
   "source": [
    "`pcd.get_axis_aligned_bounding_box()` 和 `pcd.get_oriented_bounding_box()` 都是用于获取点云数据的边界框的方法，但它们的边界框的方向不同。\n",
    "\n",
    "1. `pcd.get_axis_aligned_bounding_box()`：这个方法返回一个与坐标轴对齐的边界框。也就是说，这个边界框的每个边都平行于坐标轴。这种类型的边界框计算起来比较简单，但可能不会紧密地包围点云。\n",
    "\n",
    "2. `pcd.get_oriented_bounding_box()`：这个方法返回一个方向边界框，也就是说，这个边界框的方向是根据点云的形状来确定的，而不是简单地与坐标轴对齐。这种类型的边界框可能会更紧密地包围点云，但计算起来比较复杂。\n",
    "\n"
   ]
  },
  {
   "cell_type": "code",
   "execution_count": 1,
   "metadata": {},
   "outputs": [
    {
     "name": "stdout",
     "output_type": "stream",
     "text": [
      "Jupyter environment detected. Enabling Open3D WebVisualizer.\n",
      "[Open3D INFO] WebRTC GUI backend enabled.\n",
      "[Open3D INFO] WebRTCWindowSystem: HTTP handshake server disabled.\n",
      "->正在加载点云... \n",
      "PointCloud with 35947 points.\n",
      "->pcd质心： [-0.02675991  0.09521606  0.00894711]\n",
      "\n",
      "->点云的一般变换\n",
      "\n",
      "->变换矩阵：\n",
      " [[ 0.70710678  0.          0.70710678  5.        ]\n",
      " [ 0.35355339  0.8660254  -0.35355339  3.        ]\n",
      " [-0.61237244  0.5         0.61237244  0.        ]\n",
      " [ 0.          0.          0.          1.        ]]\n",
      "\n",
      "->pcd_scale1质心： [4.98740445 3.06983519 0.06947403]\n",
      "[Open3D WARNING] [ViewControl] SetViewPoint() failed because window height and width are not set.\n"
     ]
    }
   ],
   "source": [
    "import copy  # 点云深拷贝\n",
    "import open3d as o3d\n",
    "import numpy as np\n",
    "\n",
    "# -------------------------- 加载点云 ------------------------\n",
    "print(\"->正在加载点云... \")\n",
    "pcd = o3d.io.read_point_cloud(\"bunny.pcd\")\n",
    "print(pcd)\n",
    "pcd.paint_uniform_color([1,0,0])\n",
    "print(\"->pcd质心：\",pcd.get_center())\n",
    "# ===========================================================\n",
    "\n",
    "# -------------------------- transform ------------------------\n",
    "print(\"\\n->点云的一般变换\")\n",
    "pcd_T = copy.deepcopy(pcd)\n",
    "T = np.eye(4 )#单位矩阵\n",
    "T[ :3, :3] = pcd.get_rotation_matrix_from_xyz((np.pi/6,np.pi/4,0))\t# 旋转矩阵 #绕x轴旋转30°，绕y轴旋转45°\n",
    "T[0,3] = 5.0\t# 平移向量的dx\n",
    "T[1,3] = 3.0\t# 平移向量的dy\n",
    "print(\"\\n->变换矩阵：\\n\",T)\n",
    "pcd_T.transform(T)  #输入为4x4的变换矩阵，前3x3为旋转矩阵，后3x1为平移向量\n",
    "pcd_T.paint_uniform_color([0,0,1])\n",
    "print(\"\\n->pcd_scale1质心：\",pcd_T.get_center())\n",
    "# ===========================================================\n",
    "\n",
    "# -------------------------- 可视化 --------------------------\n",
    "#坐标\n",
    "coordinate_frame = o3d.geometry.TriangleMesh.create_coordinate_frame(size=0.5, origin=[0, 0, 0]) #x红 y绿 z蓝\n",
    "coordinate_frame_T = copy.deepcopy(coordinate_frame)\n",
    "coordinate_frame_T.transform(T,)\n",
    "o3d.visualization.draw_geometries([pcd, pcd_T, coordinate_frame, coordinate_frame_T])\n",
    "# ===========================================================\n"
   ]
  },
  {
   "cell_type": "code",
   "execution_count": 5,
   "metadata": {},
   "outputs": [
    {
     "name": "stdout",
     "output_type": "stream",
     "text": [
      "->正在加载点云... \n",
      "PointCloud with 35947 points.\n",
      "pcd质心：[-0.02675991  0.09521606  0.00894711]\n",
      "\n",
      "->沿X轴平移0.2m\n",
      "PointCloud with 35947 points.\n",
      "pcd_tx质心：[0.17324009 0.29521606 0.20894711]\n",
      "\n",
      "->将点云质心平移到指定位置\n",
      "PointCloud with 35947 points.\n",
      "pcd_new：[0.2 0.2 0.2]\n"
     ]
    }
   ],
   "source": [
    "import copy  # 点云深拷贝\n",
    "import open3d as o3d\n",
    "\n",
    "# -------------------------- 加载点云 ------------------------\n",
    "print(\"->正在加载点云... \")\n",
    "pcd = o3d.io.read_point_cloud(\"bunny.pcd\")\n",
    "pcd.paint_uniform_color([0, 0, 0])\n",
    "print(pcd)\n",
    "print(f'pcd质心：{pcd.get_center()}')\n",
    "# ===========================================================\n",
    "\n",
    "# -------------------------- 点云平移 ------------------------\n",
    "print(\"\\n->沿X轴平移0.2m\")\n",
    "pcd_tx = copy.deepcopy(pcd).translate((0.2, 0.2, 0.2)) #沿x轴平移0.2m y轴平移0.2m z轴平移0.2m ,relative=True表示相对于原点平移\n",
    "pcd_tx.paint_uniform_color([1, 0, 0])\n",
    "print(pcd_tx)\n",
    "print(f'pcd_tx质心：{pcd_tx.get_center()}')\n",
    "\n",
    "print(\"\\n->将点云质心平移到指定位置\")\n",
    "pcd_new = copy.deepcopy(pcd_tx).translate((0.2, 0.2, 0.2),relative=False) # relative=False表示质心移动到指定位置，不是平移的距离\n",
    "#pcd_new = copy.deepcopy(pcd_tx).translate((0.2, 0.2, 0.2),False)  # relative 可以省略\n",
    "pcd_new.paint_uniform_color([0, 1, 0])\n",
    "print(pcd_new)\n",
    "print(f'pcd_new：{pcd_new.get_center()}')\n",
    "# ===========================================================\n",
    "\n",
    "# -------------------------- 可视化 --------------------------\n",
    "o3d.visualization.draw_geometries([pcd, pcd_tx, pcd_new])\n",
    "# ===========================================================\n"
   ]
  },
  {
   "cell_type": "code",
   "execution_count": 8,
   "metadata": {},
   "outputs": [
    {
     "name": "stdout",
     "output_type": "stream",
     "text": [
      "->正在加载点云... \n",
      "PointCloud with 35947 points.\n",
      "->pcd质心： [-0.02675991  0.09521606  0.00894711]\n",
      "\n",
      "->采用欧拉角进行点云旋转\n",
      "旋转矩阵：\n",
      " [[ 6.123234e-17  0.000000e+00  1.000000e+00]\n",
      " [ 0.000000e+00  1.000000e+00  0.000000e+00]\n",
      " [-1.000000e+00  0.000000e+00  6.123234e-17]]\n",
      "\n",
      "->pcd_EulerAngle质心： [0.00894711 0.09521606 0.22675991]\n"
     ]
    }
   ],
   "source": [
    "import copy  # 点云深拷贝\n",
    "import open3d as o3d\n",
    "import numpy as np\n",
    "\n",
    "# -------------------------- 加载点云 ------------------------\n",
    "print(\"->正在加载点云... \")\n",
    "pcd = o3d.io.read_point_cloud(\"bunny.pcd\")\n",
    "print(pcd)\n",
    "pcd.paint_uniform_color([1,0,0])\n",
    "print(\"->pcd质心：\",pcd.get_center())\n",
    "# ===========================================================\n",
    "\n",
    "# -------------------------- 点云旋转 ------------------------\n",
    "print(\"\\n->采用欧拉角进行点云旋转\")\n",
    "pcd_EulerAngle = copy.deepcopy(pcd)\n",
    "R1 = pcd.get_rotation_matrix_from_xyz((0,np.pi/2,0))\n",
    "print(\"旋转矩阵：\\n\",R1)\n",
    "pcd_EulerAngle.rotate(R1,center = (0.1,0.1,0.1))    # 指定旋转中心 #会改变点云的质心 若不指定旋转中心，则不会改变点云的质心\n",
    "pcd_EulerAngle.paint_uniform_color([0,0,1])\n",
    "print(\"\\n->pcd_EulerAngle质心：\",pcd_EulerAngle.get_center())\n",
    "# ===========================================================\n",
    "\n",
    "# -------------------------- 可视化 --------------------------\n",
    "#坐标\n",
    "coordinate_frame = o3d.geometry.TriangleMesh.create_coordinate_frame(size=0.1, origin=[0, 0, 0]) #x红 y绿 z蓝\n",
    "coordinate_frame_EulerAngle = copy.deepcopy(coordinate_frame)\n",
    "coordinate_frame_EulerAngle.rotate(R1,center = (0.1,0.1,0.1))\n",
    "o3d.visualization.draw_geometries([pcd, pcd_EulerAngle, coordinate_frame, coordinate_frame_EulerAngle])\n",
    "# ===========================================================\n"
   ]
  }
 ],
 "metadata": {
  "kernelspec": {
   "display_name": "myopen3d",
   "language": "python",
   "name": "python3"
  },
  "language_info": {
   "codemirror_mode": {
    "name": "ipython",
    "version": 3
   },
   "file_extension": ".py",
   "mimetype": "text/x-python",
   "name": "python",
   "nbconvert_exporter": "python",
   "pygments_lexer": "ipython3",
   "version": "3.11.7"
  }
 },
 "nbformat": 4,
 "nbformat_minor": 2
}
